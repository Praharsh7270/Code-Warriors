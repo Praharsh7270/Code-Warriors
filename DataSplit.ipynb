{
 "cells": [
  {
   "cell_type": "code",
   "execution_count": 1,
   "id": "594d3afc-2ec9-4105-b7eb-6efbb750c7c2",
   "metadata": {},
   "outputs": [],
   "source": [
    "import os\n",
    "import shutil\n",
    "import random"
   ]
  },
  {
   "cell_type": "code",
   "execution_count": 3,
   "id": "998ab513-5f26-47c3-80dc-c61c34f64379",
   "metadata": {},
   "outputs": [],
   "source": [
    "def create_dataset_split(source_dir, dest_dir, split_ratio):\n",
    "    # Create directories for train, validation, and test sets\n",
    "    os.makedirs(dest_dir, exist_ok=True)\n",
    "    classes = os.listdir(source_dir)\n",
    "    \n",
    "    for cls in classes:\n",
    "        cls_path = os.path.join(source_dir, cls)\n",
    "        if os.path.isdir(cls_path):\n",
    "            images = os.listdir(cls_path)\n",
    "            random.shuffle(images)\n",
    "            \n",
    "            split1 = int(len(images) * split_ratio[0])\n",
    "            split2 = int(len(images) * (split_ratio[0] + split_ratio[1]))\n",
    "            \n",
    "            train_images = images[:split1]\n",
    "            val_images = images[split1:split2]\n",
    "            test_images = images[split2:]\n",
    "            \n",
    "            for folder, imgs in zip(['train', 'validation', 'test'], [train_images, val_images, test_images]):\n",
    "                cls_dest_dir = os.path.join(dest_dir, folder, cls)\n",
    "                os.makedirs(cls_dest_dir, exist_ok=True)\n",
    "                for img in imgs:\n",
    "                    shutil.copy(os.path.join(cls_path, img), cls_dest_dir)\n",
    "\n",
    "# Define source and destination directories\n",
    "source_dir = 'D:/js/plants/plantvillage dataset/color'  # Replace with the actual path to your dataset\n",
    "dest_dir = 'D:/js/plants/split_data'   # Replace with the desired output path\n",
    "\n",
    "# Define split ratio for train, validation, and test (e.g., 70% train, 20% validation, 10% test)\n",
    "split_ratio = (0.7, 0.2, 0.1)\n",
    "\n",
    "# Create dataset split\n",
    "create_dataset_split(source_dir, dest_dir, split_ratio)"
   ]
  },
  {
   "cell_type": "code",
   "execution_count": null,
   "id": "fe9d0dfb-7cf6-458a-a0e5-4fa76950c9eb",
   "metadata": {},
   "outputs": [],
   "source": []
  }
 ],
 "metadata": {
  "kernelspec": {
   "display_name": "Python 3 (ipykernel)",
   "language": "python",
   "name": "python3"
  },
  "language_info": {
   "codemirror_mode": {
    "name": "ipython",
    "version": 3
   },
   "file_extension": ".py",
   "mimetype": "text/x-python",
   "name": "python",
   "nbconvert_exporter": "python",
   "pygments_lexer": "ipython3",
   "version": "3.12.4"
  }
 },
 "nbformat": 4,
 "nbformat_minor": 5
}
